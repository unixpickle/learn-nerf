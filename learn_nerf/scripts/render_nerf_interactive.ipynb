{
 "cells": [
  {
   "cell_type": "code",
   "execution_count": null,
   "id": "50a73fd7",
   "metadata": {},
   "outputs": [],
   "source": [
    "import argparse\n",
    "import copy\n",
    "import os\n",
    "import shlex\n",
    "\n",
    "from IPython.display import display\n",
    "from PIL import Image\n",
    "import numpy as np\n",
    "\n",
    "from learn_nerf.dataset import CameraView\n",
    "from learn_nerf.scripts.render_nerf import RenderSession, argparser"
   ]
  },
  {
   "cell_type": "code",
   "execution_count": null,
   "id": "fb07430e",
   "metadata": {},
   "outputs": [],
   "source": [
    "parser = argparser()\n",
    "parser.add_argument('start_view', type=str)\n",
    "\n",
    "# Example of some arguments.\n",
    "arg_str = \"--model llff_nerfs/nerf_v14.pkl --instant_ngp --width 256 --height 256 /media/dumpster1/colmap_test/room/nerf_dataset_v14/metadata.json /media/dumpster1/colmap_test/room/nerf_dataset_v14/00000.json\"\n",
    "args = parser.parse_args(shlex.split(arg_str))\n",
    "renderer = RenderSession(args)"
   ]
  },
  {
   "cell_type": "code",
   "execution_count": null,
   "id": "ac6b7aeb",
   "metadata": {},
   "outputs": [],
   "source": [
    "LEFT_RIGHT_THETA = 0.2\n",
    "UP_DOWN_THETA = 0.2\n",
    "FORWARD_DIST = 0.3\n",
    "\n",
    "saved_views = []\n",
    "view = CameraView.from_json(args.start_view)"
   ]
  },
  {
   "cell_type": "code",
   "execution_count": null,
   "id": "b268723d",
   "metadata": {},
   "outputs": [],
   "source": [
    "def render_loop():\n",
    "    while True:\n",
    "        saved_views.append(copy.deepcopy(view))\n",
    "        renderer.render_view(view)\n",
    "        display(Image.fromarray(renderer.images[-1]))\n",
    "        cmds = ''\n",
    "        while not cmds or any(x not in list('rludfbxo') for x in cmds):\n",
    "            cmds = input('r=right, l=left, u=up, d=down, f=forward, b=back, o=reorient, x=stop: ')\n",
    "        for cmd in cmds:\n",
    "            if cmd == 'x':\n",
    "                return\n",
    "            elif cmd == 'r' or cmd == 'l':\n",
    "                th = -LEFT_RIGHT_THETA\n",
    "                if cmd == 'l':\n",
    "                    th = -th\n",
    "                x, z = np.array(view.x_axis), np.array(view.camera_direction)\n",
    "                view.x_axis = tuple(x*np.cos(th) + z*np.sin(th))\n",
    "                view.camera_direction = tuple(-x*np.sin(th) + z*np.cos(th))\n",
    "            elif cmd == 'u' or cmd == 'd':\n",
    "                th = -UP_DOWN_THETA\n",
    "                if cmd == 'u':\n",
    "                    th = -th\n",
    "                x, z = np.array(view.y_axis), np.array(view.camera_direction)\n",
    "                view.y_axis = tuple(x*np.cos(th) + z*np.sin(th))\n",
    "                view.camera_direction = tuple(-x*np.sin(th) + z*np.cos(th))\n",
    "            elif cmd == 'f' or cmd == 'b':\n",
    "                d = FORWARD_DIST\n",
    "                if cmd == 'b':\n",
    "                    d = -d\n",
    "                view.camera_origin = tuple(np.array(view.camera_origin) + np.array(view.camera_direction)*d)\n",
    "            elif cmd == 'o':\n",
    "                x, y, z = np.array(view.x_axis), np.array(saved_views[0].y_axis), np.array(view.camera_direction)\n",
    "                z = z - y*np.dot(z, y)\n",
    "                z = z / np.linalg.norm(z)\n",
    "                x = np.cross(y, z)\n",
    "                x = x / np.linalg.norm(x)\n",
    "                view.x_axis = tuple(x)\n",
    "                view.y_axis = tuple(y)\n",
    "                view.camera_direction = tuple(z)\n",
    "\n",
    "render_loop()"
   ]
  },
  {
   "cell_type": "code",
   "execution_count": null,
   "id": "c0321759",
   "metadata": {},
   "outputs": [],
   "source": [
    "# Save a low-res version to a single reel file.\n",
    "renderer.save('interactive.png')"
   ]
  },
  {
   "cell_type": "code",
   "execution_count": null,
   "id": "62107323",
   "metadata": {
    "scrolled": true
   },
   "outputs": [],
   "source": [
    "# Render in higher resolution for ffmpeg encoding.\n",
    "os.makedirs('interactive', exist_ok=True)\n",
    "renderer.images = []\n",
    "args.width = 384\n",
    "args.height = 384\n",
    "for i, view in enumerate(saved_views):\n",
    "    print(f'view {i} of {len(saved_views)}')\n",
    "    renderer.render_view(view)\n",
    "    Image.fromarray(renderer.images.pop()).save(f'interactive/{i:04}.png')"
   ]
  }
 ],
 "metadata": {
  "kernelspec": {
   "display_name": "Python 3 (ipykernel)",
   "language": "python",
   "name": "python3"
  },
  "language_info": {
   "codemirror_mode": {
    "name": "ipython",
    "version": 3
   },
   "file_extension": ".py",
   "mimetype": "text/x-python",
   "name": "python",
   "nbconvert_exporter": "python",
   "pygments_lexer": "ipython3",
   "version": "3.8.10"
  }
 },
 "nbformat": 4,
 "nbformat_minor": 5
}
